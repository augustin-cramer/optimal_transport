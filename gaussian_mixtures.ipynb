{
 "cells": [
  {
   "cell_type": "markdown",
   "metadata": {},
   "source": [
    "# Monge, Bregman and Occam estimator"
   ]
  },
  {
   "cell_type": "markdown",
   "metadata": {},
   "source": [
    "## The Monge Problem\n",
    "\n",
    "The Monge Problem delves into identifying, among all possible mappings $T: \\mathbb{R}^d \\to \\mathbb{R}^d$ that push-forward a measure $\\mu \\in \\mathcal{P}\\left(\\mathbb{R^d}\\right)$ \n",
    "onto $\\nu \\in \\mathcal{P}\\left(\\mathbb{R^d}\\right)$, and using a cost function $c(\\textbf{x}, \\textbf{y})$ as a measure of the length of the displacement, the most efficient maps. These optimal mapping are characterized as follows:  \n",
    "$T^\\star := \\underset{T\\#\\mu=\\nu }{\\arg \\inf}\\int_{\\mathbb{R^d}}^{} c(\\textbf{x}, T(\\textbf{x}))d\\mu$.\n",
    "\n",
    "## Sparsity inducing costs\n",
    "Considering a translation-invariant cost function $c(\\textbf{x}, \\textbf{y}) := h\\left(\\textbf{x}-T(\\textbf{x})\\right)$, we will shed the light on particular cost functions that can induce sparse transportations, ie $\\left\\|\\Delta(\\textbf{x})  \\right\\|_0 << d$ where $\\Delta(\\textbf{x}) := \\textbf{x}-T(\\textbf{x})\\in \\mathbb{R}^d$ is the displacement vector.\n",
    "\n",
    "Elastic costs are functions of the form $c(x, y) = h_\\tau(x - y)$ with $h_\\tau(z) = \\frac{1}{2} \\left\\|z\\right\\|_2^2 + \\tau(z)$. $\\tau$ is a regularizer that, generally speaking, can be any regularizer as long as its proximal operator is known in closed form."
   ]
  },
  {
   "cell_type": "code",
   "execution_count": 1,
   "metadata": {},
   "outputs": [],
   "source": [
    "import jax\n",
    "import jax.numpy as jnp\n",
    "import numpy as np\n",
    "\n",
    "import matplotlib.pyplot as plt\n",
    "\n",
    "import ott\n",
    "from ott.geometry import costs, pointcloud\n",
    "from ott.problems.linear import linear_problem\n",
    "from ott.solvers.linear import sinkhorn\n",
    "from ott.geometry.costs import ElasticL1\n",
    "from ott.tools import sinkhorn_divergence"
   ]
  },
  {
   "cell_type": "code",
   "execution_count": 2,
   "metadata": {},
   "outputs": [],
   "source": [
    "from ott.tools.gaussian_mixture import (\n",
    "    gaussian_mixture,\n",
    ")"
   ]
  },
  {
   "cell_type": "code",
   "execution_count": 3,
   "metadata": {},
   "outputs": [],
   "source": [
    "rng = jax.random.PRNGKey(1)\n",
    "\n",
    "d = 200\n",
    "\n",
    "mean_generator0 = jnp.array([[0.0]*(i) + [2.0] + [0.0]*(d-i-1) for i in range(d)])\n",
    "cov_generator0 =  jnp.array(\n",
    "    [\n",
    "    np.diag([0.3]*i + [0.05] + [0.3]*(d-i-1)).tolist() for i in range(d)\n",
    "    ]\n",
    ")\n",
    "weights_generator0 = jnp.array([1.0]*d)\n",
    "\n",
    "gmm_generator0 = (\n",
    "    gaussian_mixture.GaussianMixture.from_mean_cov_component_weights(\n",
    "        mean=mean_generator0,\n",
    "        cov=cov_generator0,\n",
    "        component_weights=weights_generator0,\n",
    "    )\n",
    ")\n",
    "\n",
    "mean_generator1 = jnp.array([[0.0 for _ in range(d)]])\n",
    "cov_generator1 = jnp.array(\n",
    "    [\n",
    "        np.diag([0.2 for _ in range(d)]).tolist(),\n",
    "    ]\n",
    ")\n",
    "weights_generator1 = jnp.array([1.0])\n",
    "\n",
    "gmm_generator1 = (\n",
    "    gaussian_mixture.GaussianMixture.from_mean_cov_component_weights(\n",
    "        mean=mean_generator1,\n",
    "        cov=cov_generator1,\n",
    "        component_weights=weights_generator1,\n",
    "    )\n",
    ")\n"
   ]
  },
  {
   "cell_type": "code",
   "execution_count": null,
   "metadata": {},
   "outputs": [
    {
     "ename": "",
     "evalue": "",
     "output_type": "error",
     "traceback": [
      "\u001b[1;31mThe Kernel crashed while executing code in the current cell or a previous cell. \n",
      "\u001b[1;31mPlease review the code in the cell(s) to identify a possible cause of the failure. \n",
      "\u001b[1;31mClick <a href='https://aka.ms/vscodeJupyterKernelCrash'>here</a> for more info. \n",
      "\u001b[1;31mView Jupyter <a href='command:jupyter.viewOutput'>log</a> for further details."
     ]
    }
   ],
   "source": [
    "N = 1000\n",
    "rng, rng1, rng2 = jax.random.split(rng, num=3)\n",
    "x = samples_gmm0 = gmm_generator0.sample(rng=rng1, size=N)\n",
    "y = samples_gmm1 = gmm_generator1.sample(rng=rng2, size=N)"
   ]
  },
  {
   "cell_type": "code",
   "execution_count": 4,
   "metadata": {},
   "outputs": [
    {
     "ename": "NameError",
     "evalue": "name 'samples_gmm0' is not defined",
     "output_type": "error",
     "traceback": [
      "\u001b[0;31m---------------------------------------------------------------------------\u001b[0m",
      "\u001b[0;31mNameError\u001b[0m                                 Traceback (most recent call last)",
      "Cell \u001b[0;32mIn[4], line 2\u001b[0m\n\u001b[1;32m      1\u001b[0m plt\u001b[38;5;241m.\u001b[39mfigure(figsize\u001b[38;5;241m=\u001b[39m(\u001b[38;5;241m12\u001b[39m, \u001b[38;5;241m6\u001b[39m))\n\u001b[0;32m----> 2\u001b[0m plt\u001b[38;5;241m.\u001b[39mscatter(\u001b[43msamples_gmm0\u001b[49m[:, \u001b[38;5;241m0\u001b[39m], samples_gmm0[:, \u001b[38;5;241m1\u001b[39m], edgecolors\u001b[38;5;241m=\u001b[39m\u001b[38;5;124m\"\u001b[39m\u001b[38;5;124mk\u001b[39m\u001b[38;5;124m\"\u001b[39m, marker\u001b[38;5;241m=\u001b[39m\u001b[38;5;124m\"\u001b[39m\u001b[38;5;124mo\u001b[39m\u001b[38;5;124m\"\u001b[39m, alpha\u001b[38;5;241m=\u001b[39m\u001b[38;5;241m0.5\u001b[39m)\n\u001b[1;32m      3\u001b[0m plt\u001b[38;5;241m.\u001b[39mscatter(samples_gmm1[:, \u001b[38;5;241m0\u001b[39m], samples_gmm1[:, \u001b[38;5;241m1\u001b[39m], edgecolors\u001b[38;5;241m=\u001b[39m\u001b[38;5;124m\"\u001b[39m\u001b[38;5;124mk\u001b[39m\u001b[38;5;124m\"\u001b[39m, marker\u001b[38;5;241m=\u001b[39m\u001b[38;5;124m\"\u001b[39m\u001b[38;5;124mX\u001b[39m\u001b[38;5;124m\"\u001b[39m, alpha\u001b[38;5;241m=\u001b[39m\u001b[38;5;241m0.5\u001b[39m)\n\u001b[1;32m      4\u001b[0m plt\u001b[38;5;241m.\u001b[39mshow()\n",
      "\u001b[0;31mNameError\u001b[0m: name 'samples_gmm0' is not defined"
     ]
    },
    {
     "data": {
      "text/plain": [
       "<Figure size 1200x600 with 0 Axes>"
      ]
     },
     "metadata": {},
     "output_type": "display_data"
    }
   ],
   "source": [
    "plt.figure(figsize=(12, 6))\n",
    "plt.scatter(samples_gmm0[:, 0], samples_gmm0[:, 1], edgecolors=\"k\", marker=\"o\", alpha=0.5)\n",
    "plt.scatter(samples_gmm1[:, 0], samples_gmm1[:, 1], edgecolors=\"k\", marker=\"X\", alpha=0.5)\n",
    "plt.show()"
   ]
  },
  {
   "cell_type": "markdown",
   "metadata": {},
   "source": [
    "## Map with the regular l2 norm"
   ]
  },
  {
   "cell_type": "code",
   "execution_count": null,
   "metadata": {},
   "outputs": [],
   "source": [
    "solver = jax.jit(sinkhorn.Sinkhorn())\n",
    "\n",
    "\n",
    "def entropic_map(x, y, cost_fn: costs.TICost) -> jnp.ndarray:\n",
    "    geom = pointcloud.PointCloud(x, y, cost_fn=cost_fn)\n",
    "    output = solver(linear_problem.LinearProblem(geom))\n",
    "    dual_potentials = output.to_dual_potentials()\n",
    "    return dual_potentials.transport\n",
    "\n",
    "\n",
    "map = entropic_map(x, y, costs.SqEuclidean())"
   ]
  },
  {
   "cell_type": "code",
   "execution_count": null,
   "metadata": {},
   "outputs": [],
   "source": [
    "new = gmm_generator0.sample(rng=rng, size=N)"
   ]
  },
  {
   "cell_type": "code",
   "execution_count": 5,
   "metadata": {},
   "outputs": [
    {
     "ename": "NameError",
     "evalue": "name 'new' is not defined",
     "output_type": "error",
     "traceback": [
      "\u001b[0;31m---------------------------------------------------------------------------\u001b[0m",
      "\u001b[0;31mNameError\u001b[0m                                 Traceback (most recent call last)",
      "Cell \u001b[0;32mIn[5], line 1\u001b[0m\n\u001b[0;32m----> 1\u001b[0m sparsity_l2 \u001b[38;5;241m=\u001b[39m ((\u001b[43mnew\u001b[49m \u001b[38;5;241m-\u001b[39m \u001b[38;5;28mmap\u001b[39m(new)) \u001b[38;5;241m<\u001b[39m \u001b[38;5;241m1e-6\u001b[39m)\u001b[38;5;241m.\u001b[39mmean(axis\u001b[38;5;241m=\u001b[39m\u001b[38;5;241m1\u001b[39m)\u001b[38;5;241m.\u001b[39mmean()\n\u001b[1;32m      2\u001b[0m sink_l2 \u001b[38;5;241m=\u001b[39m sinkhorn_divergence\u001b[38;5;241m.\u001b[39msinkhorn_divergence(pointcloud\u001b[38;5;241m.\u001b[39mPointCloud, \u001b[38;5;28mmap\u001b[39m(new), y, cost_fn\u001b[38;5;241m=\u001b[39mcosts\u001b[38;5;241m.\u001b[39mSqEuclidean())\u001b[38;5;241m.\u001b[39mdivergence\n",
      "\u001b[0;31mNameError\u001b[0m: name 'new' is not defined"
     ]
    }
   ],
   "source": [
    "sparsity_l2 = ((new - map(new)) < 1e-6).mean(axis=1).mean()\n",
    "sink_l2 = sinkhorn_divergence.sinkhorn_divergence(pointcloud.PointCloud, map(new), y, cost_fn=costs.SqEuclidean()).divergence"
   ]
  },
  {
   "cell_type": "markdown",
   "metadata": {},
   "source": [
    "# Using Elastic costs"
   ]
  },
  {
   "cell_type": "code",
   "execution_count": null,
   "metadata": {},
   "outputs": [],
   "source": [
    "cost_fn = ElasticL1"
   ]
  },
  {
   "cell_type": "code",
   "execution_count": null,
   "metadata": {},
   "outputs": [],
   "source": [
    "sparsity = []\n",
    "sink_div = []\n",
    "\n",
    "for reg in np.logspace(-2, 3, 10):\n",
    "    solver = jax.jit(sinkhorn.Sinkhorn())\n",
    "    cost = pointcloud.PointCloud(x, y, cost_fn=cost_fn(reg))\n",
    "    prob = linear_problem.LinearProblem(cost)\n",
    "    out = solver(prob)\n",
    "    dual_potentials = out.to_dual_potentials()\n",
    "    map = dual_potentials.transport\n",
    "    sparsity.append(((new - map(new)) < 1e-6).mean(axis=1).mean())\n",
    "    sink_div.append((sinkhorn_divergence.sinkhorn_divergence(pointcloud.PointCloud, map(new), y, cost_fn=costs.SqEuclidean()).divergence))"
   ]
  },
  {
   "cell_type": "code",
   "execution_count": 6,
   "metadata": {},
   "outputs": [
    {
     "ename": "NameError",
     "evalue": "name 'sparsity' is not defined",
     "output_type": "error",
     "traceback": [
      "\u001b[0;31m---------------------------------------------------------------------------\u001b[0m",
      "\u001b[0;31mNameError\u001b[0m                                 Traceback (most recent call last)",
      "Cell \u001b[0;32mIn[6], line 1\u001b[0m\n\u001b[0;32m----> 1\u001b[0m plt\u001b[38;5;241m.\u001b[39mplot(np\u001b[38;5;241m.\u001b[39mlogspace(\u001b[38;5;241m-\u001b[39m\u001b[38;5;241m2\u001b[39m, \u001b[38;5;241m3\u001b[39m, \u001b[38;5;241m10\u001b[39m), \u001b[43msparsity\u001b[49m)\n\u001b[1;32m      2\u001b[0m plt\u001b[38;5;241m.\u001b[39maxhline(sparsity_l2, color\u001b[38;5;241m=\u001b[39m\u001b[38;5;124m\"\u001b[39m\u001b[38;5;124mr\u001b[39m\u001b[38;5;124m\"\u001b[39m, linestyle\u001b[38;5;241m=\u001b[39m\u001b[38;5;124m\"\u001b[39m\u001b[38;5;124m--\u001b[39m\u001b[38;5;124m\"\u001b[39m)\n\u001b[1;32m      3\u001b[0m plt\u001b[38;5;241m.\u001b[39mxscale(\u001b[38;5;124m\"\u001b[39m\u001b[38;5;124mlog\u001b[39m\u001b[38;5;124m\"\u001b[39m)\n",
      "\u001b[0;31mNameError\u001b[0m: name 'sparsity' is not defined"
     ]
    }
   ],
   "source": [
    "plt.plot(np.logspace(-2, 3, 10), sparsity)\n",
    "plt.axhline(sparsity_l2, color=\"r\", linestyle=\"--\")\n",
    "plt.xscale(\"log\")"
   ]
  },
  {
   "cell_type": "code",
   "execution_count": null,
   "metadata": {},
   "outputs": [
    {
     "data": {
      "image/png": "[encoded data removed]",
      "text/plain": [
       "<Figure size 640x480 with 1 Axes>"
      ]
     },
     "metadata": {},
     "output_type": "display_data"
    }
   ],
   "source": [
    "plt.plot(np.logspace(-2, 3, 10), sink_div)\n",
    "plt.axhline(sink_l2, color=\"r\", linestyle=\"--\")\n",
    "plt.xscale(\"log\")"
   ]
  },
  {
   "cell_type": "code",
   "execution_count": null,
   "metadata": {},
   "outputs": [],
   "source": []
  }
 ],
 "metadata": {
  "kernelspec": {
   "display_name": "venv",
   "language": "python",
   "name": "python3"
  },
  "language_info": {
   "codemirror_mode": {
    "name": "ipython",
    "version": 3
   },
   "file_extension": ".py",
   "mimetype": "text/x-python",
   "name": "python",
   "nbconvert_exporter": "python",
   "pygments_lexer": "ipython3",
   "version": "3.10.13"
  }
 },
 "nbformat": 4,
 "nbformat_minor": 2
}
